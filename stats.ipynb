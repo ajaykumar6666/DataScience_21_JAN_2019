{
 "cells": [
  {
   "cell_type": "code",
   "execution_count": 7,
   "metadata": {},
   "outputs": [],
   "source": [
    "import statistics as stats"
   ]
  },
  {
   "cell_type": "markdown",
   "metadata": {},
   "source": [
    "## Mean, medium and mode"
   ]
  },
  {
   "cell_type": "code",
   "execution_count": 12,
   "metadata": {},
   "outputs": [
    {
     "name": "stdout",
     "output_type": "stream",
     "text": [
      "Mean = 56.6, Median = 65.5, Mode = 2\n"
     ]
    }
   ],
   "source": [
    "marks = [90,77,65,55,45,88,76,66,2,2]\n",
    "print( f\"Mean = {stats.mean(marks)}, Median = {stats.median(marks)}, Mode = {stats.mode(marks)}\")"
   ]
  },
  {
   "cell_type": "markdown",
   "metadata": {},
   "source": [
    "## Range "
   ]
  },
  {
   "cell_type": "code",
   "execution_count": 13,
   "metadata": {},
   "outputs": [
    {
     "data": {
      "text/plain": [
       "88"
      ]
     },
     "execution_count": 13,
     "metadata": {},
     "output_type": "execute_result"
    }
   ],
   "source": [
    "max(marks) - min(marks)"
   ]
  },
  {
   "cell_type": "code",
   "execution_count": null,
   "metadata": {},
   "outputs": [],
   "source": []
  },
  {
   "cell_type": "markdown",
   "metadata": {},
   "source": [
    "## Variance and std. deviation"
   ]
  },
  {
   "cell_type": "code",
   "execution_count": 15,
   "metadata": {},
   "outputs": [
    {
     "name": "stdout",
     "output_type": "stream",
     "text": [
      "Variance = 290.4888888888889, Std. Deviation = 17.04373459335978\n"
     ]
    }
   ],
   "source": [
    "marks = [90,77,65,55,45,88,76,66,42,52]\n",
    "print( f\"Variance = {stats.variance(marks)}, Std. Deviation = {stats.stdev(marks)}\")"
   ]
  },
  {
   "cell_type": "markdown",
   "metadata": {},
   "source": [
    "## Quartile Range and IQR"
   ]
  },
  {
   "cell_type": "code",
   "execution_count": 16,
   "metadata": {},
   "outputs": [],
   "source": [
    "import scipy.stats as ss"
   ]
  },
  {
   "cell_type": "code",
   "execution_count": 17,
   "metadata": {},
   "outputs": [
    {
     "data": {
      "text/plain": [
       "24.0"
      ]
     },
     "execution_count": 17,
     "metadata": {},
     "output_type": "execute_result"
    }
   ],
   "source": [
    "ss.iqr(marks)"
   ]
  },
  {
   "cell_type": "code",
   "execution_count": 19,
   "metadata": {},
   "outputs": [
    {
     "name": "stdout",
     "output_type": "stream",
     "text": [
      "24.0 12.75\n"
     ]
    }
   ],
   "source": [
    "print(ss.iqr(marks,rng=(25,75)), ss.iqr(marks,rng=(25,50)))"
   ]
  },
  {
   "cell_type": "code",
   "execution_count": 20,
   "metadata": {},
   "outputs": [
    {
     "data": {
      "text/plain": [
       "DescribeResult(nobs=10, minmax=(42, 90), mean=65.6, variance=290.4888888888889, skewness=0.06576188385534232, kurtosis=-1.2854267542236648)"
      ]
     },
     "execution_count": 20,
     "metadata": {},
     "output_type": "execute_result"
    }
   ],
   "source": [
    "ss.describe(marks)"
   ]
  },
  {
   "cell_type": "code",
   "execution_count": 13,
   "metadata": {},
   "outputs": [
    {
     "name": "stdout",
     "output_type": "stream",
     "text": [
      "87000\n",
      "44750.0\n",
      "True\n",
      "Stdev :  44048.45816446549\n"
     ]
    }
   ],
   "source": [
    "import statistics as stats\n",
    "import scipy.stats as ss\n",
    "salaries = [60000,70000,26000,55000,87000,34000,23000,89000,75000,175000]\n",
    "q2 = stats.median(salaries)\n",
    "q3 = stats.median( [n for n in salaries if n > q2])\n",
    "print(q3)\n",
    "iqr = ss.iqr(salaries)\n",
    "print(iqr)\n",
    "print(  salaries[9] >  (q3 + 1.5 * iqr) )\n",
    "print( \"Stdev : \", stats.stdev(salaries))"
   ]
  },
  {
   "cell_type": "markdown",
   "metadata": {},
   "source": [
    "## Skewness"
   ]
  },
  {
   "cell_type": "code",
   "execution_count": 19,
   "metadata": {},
   "outputs": [
    {
     "data": {
      "image/png": "[encoded data removed]",
      "text/plain": [
       "<Figure size 432x288 with 1 Axes>"
      ]
     },
     "metadata": {
      "needs_background": "light"
     },
     "output_type": "display_data"
    }
   ],
   "source": [
    "import matplotlib.pyplot as plt\n",
    "salaries = [60000,70000,26000,55000,87000,34000,23000,89000,75000,75000]\n",
    "plt.hist(salaries)\n",
    "plt.xlabel(\"Salaries\")\n",
    "plt.title(\"Salaries Histogram\")\n",
    "plt.show()"
   ]
  },
  {
   "cell_type": "code",
   "execution_count": 20,
   "metadata": {},
   "outputs": [
    {
     "name": "stdout",
     "output_type": "stream",
     "text": [
      "Skewness = -0.3742846662715626\n"
     ]
    }
   ],
   "source": [
    "print( f\"Skewness = {ss.skew(salaries)}\")"
   ]
  },
  {
   "cell_type": "code",
   "execution_count": 18,
   "metadata": {},
   "outputs": [
    {
     "data": {
      "image/png": "[encoded data removed]",
      "text/plain": [
       "<Figure size 432x288 with 1 Axes>"
      ]
     },
     "metadata": {
      "needs_background": "light"
     },
     "output_type": "display_data"
    }
   ],
   "source": [
    "import matplotlib.pyplot as plt   \n",
    "plt.hist(marks)\n",
    "plt.xlabel(\"Marks\")\n",
    "plt.title(\"Marks Histogram\")\n",
    "plt.show()"
   ]
  },
  {
   "cell_type": "code",
   "execution_count": 19,
   "metadata": {},
   "outputs": [
    {
     "data": {
      "text/plain": [
       "0.6472222360266336"
      ]
     },
     "execution_count": 19,
     "metadata": {},
     "output_type": "execute_result"
    }
   ],
   "source": [
    "marks2 = [45,55,58,50,45,88,36,66,65,32]\n",
    "stats.skew(marks2)"
   ]
  },
  {
   "cell_type": "markdown",
   "metadata": {},
   "source": [
    "## Boxplot for Salaries"
   ]
  },
  {
   "cell_type": "code",
   "execution_count": 27,
   "metadata": {},
   "outputs": [
    {
     "data": {
      "image/png": "[encoded data removed]",
      "text/plain": [
       "<Figure size 432x288 with 1 Axes>"
      ]
     },
     "metadata": {
      "needs_background": "light"
     },
     "output_type": "display_data"
    }
   ],
   "source": [
    "import matplotlib.pyplot as plt   \n",
    "salaries = [20000,70000,26000,55000,87000,34000,23000,89000,75000,78000]\n",
    "plt.boxplot(salaries, showmeans=True, meanline = True)\n",
    "plt.show()"
   ]
  },
  {
   "cell_type": "markdown",
   "metadata": {},
   "source": [
    "## Salary vs. age  scatter plot"
   ]
  },
  {
   "cell_type": "code",
   "execution_count": 28,
   "metadata": {},
   "outputs": [
    {
     "data": {
      "image/png": "[encoded data removed]",
      "text/plain": [
       "<Figure size 432x288 with 1 Axes>"
      ]
     },
     "metadata": {
      "needs_background": "light"
     },
     "output_type": "display_data"
    }
   ],
   "source": [
    "import matplotlib.pyplot as plt   \n",
    "ages =     [20,40,22,36,50,21,30,40,36,40]\n",
    "salaries = [20000,70000,26000,55000,87000,34000,23000,89000,75000,78000]\n",
    "plt.scatter(ages,salaries)\n",
    "plt.show()"
   ]
  },
  {
   "cell_type": "code",
   "execution_count": 5,
   "metadata": {},
   "outputs": [
    {
     "data": {
      "text/plain": [
       "(0.0, 1.0)"
      ]
     },
     "execution_count": 5,
     "metadata": {},
     "output_type": "execute_result"
    }
   ],
   "source": [
    "import scipy.stats as ss\n",
    "x = [1,2,3]\n",
    "y = [10,1,10]\n",
    "ss.pearsonr(x,y)"
   ]
  },
  {
   "cell_type": "markdown",
   "metadata": {},
   "source": [
    "## Drawling a line "
   ]
  },
  {
   "cell_type": "code",
   "execution_count": 26,
   "metadata": {},
   "outputs": [
    {
     "data": {
      "text/plain": [
       "[<matplotlib.lines.Line2D at 0x250f5fdb748>]"
      ]
     },
     "execution_count": 26,
     "metadata": {},
     "output_type": "execute_result"
    },
    {
     "data": {
      "image/png": "[encoded data removed]",
      "text/plain": [
       "<Figure size 432x288 with 1 Axes>"
      ]
     },
     "metadata": {
      "needs_background": "light"
     },
     "output_type": "display_data"
    }
   ],
   "source": [
    "import matplotlib.pyplot as plt   \n",
    "ages =  [20,40,22,36,50,21,30,40,36,40]\n",
    "plt.plot( sorted(ages))"
   ]
  },
  {
   "cell_type": "code",
   "execution_count": 16,
   "metadata": {},
   "outputs": [
    {
     "data": {
      "text/plain": [
       "(0.5622995946037235, 0.09065598279243976)"
      ]
     },
     "execution_count": 16,
     "metadata": {},
     "output_type": "execute_result"
    }
   ],
   "source": [
    "ages =     [20,40,22,36,30,21,30,40,36,20]\n",
    "salaries = [20000,70000,26000,55000,87000,34000,23000,89000,75000,78000]\n",
    "ss.pearsonr(ages,salaries)"
   ]
  },
  {
   "cell_type": "code",
   "execution_count": 19,
   "metadata": {},
   "outputs": [
    {
     "name": "stdout",
     "output_type": "stream",
     "text": [
      "12.519798416126712 198.8880489560835 0.47659198771339806 0.16373141127905844\n"
     ]
    }
   ],
   "source": [
    "## CGPA and GRE Score relationship\n",
    "gre = [320,311,290,299,330,280,260,298,310,315] \n",
    "cgpa = [8,9,7,7.5,8,8.5,7.2,8.3,9.1,9.2] \n",
    "s,i,r,p,e = ss.linregress(cgpa,gre)\n",
    "print(s,i,r,p)"
   ]
  },
  {
   "cell_type": "code",
   "execution_count": 20,
   "metadata": {},
   "outputs": [
    {
     "name": "stdout",
     "output_type": "stream",
     "text": [
      "Student with 8 will likely to score 299.04643628509723 in GRE \n"
     ]
    }
   ],
   "source": [
    "gpa = 8\n",
    "score = i + gpa * s\n",
    "print(f\"Student with {gpa} will likely to score {score} in GRE \")"
   ]
  },
  {
   "cell_type": "code",
   "execution_count": 17,
   "metadata": {},
   "outputs": [
    {
     "name": "stdout",
     "output_type": "stream",
     "text": [
      "1878.7632221318145 276.48494711147214 0.5622995946037235 0.09065598279243964\n",
      "84820.82994304312 for age 45\n"
     ]
    }
   ],
   "source": [
    "s,i,r,p,e = ss.linregress(ages,salaries)\n",
    "print(s,i,r,p)\n",
    "age = 45\n",
    "salary = i + 45 * s\n",
    "print(f\"{salary} for age {age}\")"
   ]
  },
  {
   "cell_type": "code",
   "execution_count": 20,
   "metadata": {},
   "outputs": [
    {
     "data": {
      "image/png": "[encoded data removed]",
      "text/plain": [
       "<Figure size 432x288 with 1 Axes>"
      ]
     },
     "metadata": {
      "needs_background": "light"
     },
     "output_type": "display_data"
    }
   ],
   "source": [
    "plt.hist(marks2)\n",
    "plt.xlabel(\"Marks\")\n",
    "plt.title(\"Marks Histogram\")\n",
    "plt.show()"
   ]
  },
  {
   "cell_type": "code",
   "execution_count": 22,
   "metadata": {},
   "outputs": [
    {
     "data": {
      "image/png": "[encoded data removed]",
      "text/plain": [
       "<Figure size 432x288 with 1 Axes>"
      ]
     },
     "metadata": {
      "needs_background": "light"
     },
     "output_type": "display_data"
    }
   ],
   "source": [
    "plt.boxplot(marks,showmeans=True,meanline=True)\n",
    "plt.title(\"Marks\")\n",
    "plt.show()"
   ]
  },
  {
   "cell_type": "markdown",
   "metadata": {},
   "source": [
    "## Bar Graph"
   ]
  },
  {
   "cell_type": "code",
   "execution_count": 22,
   "metadata": {},
   "outputs": [
    {
     "data": {
      "image/png": "[encoded data removed]",
      "text/plain": [
       "<Figure size 432x288 with 1 Axes>"
      ]
     },
     "metadata": {
      "needs_background": "light"
     },
     "output_type": "display_data"
    }
   ],
   "source": [
    "import matplotlib.pyplot as plt \n",
    "cats = 'Fixed Deposits', 'Shares', 'MF', 'Fixed Assets'\n",
    "values  = [600000,1050000,350000,5600000]\n",
    "plt.title('Invenstments')\n",
    "plt.xlabel('Categories')\n",
    "plt.ylabel(\"Amount\")\n",
    "plt.bar(cats, values)\n",
    "plt.show()"
   ]
  },
  {
   "cell_type": "markdown",
   "metadata": {},
   "source": [
    "## Pie Chart"
   ]
  },
  {
   "cell_type": "code",
   "execution_count": 23,
   "metadata": {},
   "outputs": [
    {
     "data": {
      "text/plain": [
       "([<matplotlib.patches.Wedge at 0x250f5f320f0>,\n",
       "  <matplotlib.patches.Wedge at 0x250f5f325f8>,\n",
       "  <matplotlib.patches.Wedge at 0x250f5f32ac8>,\n",
       "  <matplotlib.patches.Wedge at 0x250f5f32f98>],\n",
       " [Text(1.06634029519457, 0.27003402534561766, 'Fixed Deposits'),\n",
       "  Text(0.6575497146142657, 0.8818323949655614, 'Shares'),\n",
       "  Text(0.06816199563111285, 1.097886124491782, 'MF'),\n",
       "  Text(-0.7450097995751145, -0.8092962365765998, 'Fixed Assets')])"
      ]
     },
     "execution_count": 23,
     "metadata": {},
     "output_type": "execute_result"
    },
    {
     "data": {
      "image/png": "[encoded data removed]",
      "text/plain": [
       "<Figure size 432x288 with 1 Axes>"
      ]
     },
     "metadata": {},
     "output_type": "display_data"
    }
   ],
   "source": [
    "plt.title('Invenstments')\n",
    "plt.pie(x=values,labels=cats)"
   ]
  },
  {
   "cell_type": "markdown",
   "metadata": {},
   "source": [
    "## Correlation coefficient"
   ]
  },
  {
   "cell_type": "code",
   "execution_count": 32,
   "metadata": {},
   "outputs": [
    {
     "data": {
      "text/plain": [
       "(0.47659198771339806, 0.16373141127905844)"
      ]
     },
     "execution_count": 32,
     "metadata": {},
     "output_type": "execute_result"
    }
   ],
   "source": [
    "import scipy.stats as ss\n",
    "gre = [320,311,290,299,330,280,260,298,310,315]\n",
    "cgpa = [8,9,7,7.5,8,8.5,7.2,8.3,9.1,9.2]\n",
    "ss.pearsonr(cgpa,gre)"
   ]
  },
  {
   "cell_type": "markdown",
   "metadata": {},
   "source": [
    "## Linear Regression"
   ]
  },
  {
   "cell_type": "code",
   "execution_count": 33,
   "metadata": {},
   "outputs": [
    {
     "name": "stdout",
     "output_type": "stream",
     "text": [
      "Intercept = 198.8880489560835, Slope = 12.519798416126712\n",
      "We predict GRE score of 307.8102951763859 for CGPA of 8.7\n"
     ]
    }
   ],
   "source": [
    "gre = [320,311,290,299,330,280,260,298,310,315]\n",
    "cgpa = [8,9,7,7.5,8,8.5,7.2,8.3,9.1,9.2]\n",
    "slope, intercept, r_value, p_value, std_err = ss.linregress(cgpa,gre)\n",
    "print(f\"Intercept = {intercept}, Slope = {slope}\")\n",
    "x = 8.7   # CGPA (Independent variable)\n",
    "y = intercept + slope * x\n",
    "print(f\"We predict GRE score of {y} for CGPA of {x}\")"
   ]
  },
  {
   "cell_type": "markdown",
   "metadata": {},
   "source": [
    "## Scatter plot for population and area of countries "
   ]
  },
  {
   "cell_type": "code",
   "execution_count": 1,
   "metadata": {},
   "outputs": [],
   "source": [
    "import requests"
   ]
  },
  {
   "cell_type": "code",
   "execution_count": 9,
   "metadata": {},
   "outputs": [],
   "source": [
    "resp = requests.get(\"https://restcountries.eu/rest/v2/all\")\n",
    "countries = resp.json()\n",
    "x = []\n",
    "y = []\n",
    "for c in countries:\n",
    "   if not (c['area'] is None) and (c['population'] > 0) :\n",
    "      x.append(c['area'])    \n",
    "      y.append(c['population'])    "
   ]
  },
  {
   "cell_type": "code",
   "execution_count": 10,
   "metadata": {},
   "outputs": [
    {
     "data": {
      "text/plain": [
       "LinregressResult(slope=26.415393023934975, intercept=14169641.616880232, rvalue=0.40586170545614764, pvalue=7.478149299120328e-11, stderr=3.8720242855925675)"
      ]
     },
     "execution_count": 10,
     "metadata": {},
     "output_type": "execute_result"
    }
   ],
   "source": [
    "import scipy.stats as ss\n",
    "linreg = ss.linregress(x,y)\n",
    "linreg"
   ]
  },
  {
   "cell_type": "code",
   "execution_count": 12,
   "metadata": {},
   "outputs": [
    {
     "data": {
      "image/png": "[encoded data removed]",
      "text/plain": [
       "<Figure size 432x288 with 1 Axes>"
      ]
     },
     "metadata": {
      "needs_background": "light"
     },
     "output_type": "display_data"
    }
   ],
   "source": [
    "import matplotlib.pyplot as plt\n",
    "plt.scatter(x,y)\n",
    "plt.show()"
   ]
  },
  {
   "cell_type": "markdown",
   "metadata": {},
   "source": []
  }
 ],
 "metadata": {
  "kernelspec": {
   "display_name": "Python 3",
   "language": "python",
   "name": "python3"
  },
  "language_info": {
   "codemirror_mode": {
    "name": "ipython",
    "version": 3
   },
   "file_extension": ".py",
   "mimetype": "text/x-python",
   "name": "python",
   "nbconvert_exporter": "python",
   "pygments_lexer": "ipython3",
   "version": "3.7.1"
  }
 },
 "nbformat": 4,
 "nbformat_minor": 2
}
